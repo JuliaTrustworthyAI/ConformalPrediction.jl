{
  "cells": [
    {
      "cell_type": "raw",
      "metadata": {},
      "source": [
        "---\n",
        "format:\n",
        "  commonmark:\n",
        "    variant: '-raw_html'\n",
        "    wrap: none\n",
        "execute:\n",
        "  freeze: auto\n",
        "  echo: true\n",
        "  eval: true\n",
        "  output: false\n",
        "crossref:\n",
        "  fig-prefix: Figure\n",
        "  tbl-prefix: Table\n",
        "bibliography: 'https://raw.githubusercontent.com/pat-alt/bib/main/bib.bib'\n",
        "---"
      ],
      "id": "1a68c0e0"
    },
    {
      "cell_type": "markdown",
      "metadata": {},
      "source": [
        "![](dev/logo/wide_logo.png)\n",
        "\n",
        "[![Stable](https://img.shields.io/badge/docs-stable-blue.svg)](https://juliatrustworthyai.github.io/ConformalPrediction.jl/stable/)\n",
        "[![Dev](https://img.shields.io/badge/docs-dev-blue.svg)](https://juliatrustworthyai.github.io/ConformalPrediction.jl/dev/)\n",
        "[![Build Status](https://github.com/juliatrustworthyai/ConformalPrediction.jl/actions/workflows/CI.yml/badge.svg?branch=main)](https://github.com/juliatrustworthyai/ConformalPrediction.jl/actions/workflows/CI.yml?query=branch%3Amain)\n",
        "[![Coverage](https://codecov.io/gh/juliatrustworthyai/ConformalPrediction.jl/branch/main/graph/badge.svg)](https://codecov.io/gh/juliatrustworthyai/ConformalPrediction.jl)\n",
        "[![Code Style: Blue](https://img.shields.io/badge/code%20style-blue-4495d1.svg)](https://github.com/invenia/BlueStyle)\n",
        " [![License](https://img.shields.io/github/license/juliatrustworthyai/ConformalPrediction.jl)](LICENSE) \n",
        " [![Package Downloads](https://shields.io/endpoint?url=https://pkgs.genieframework.com/api/v1/badge/ConformalPrediction/)](https://pkgs.genieframework.com?packages=ConformalPrediction) \n",
        "\n",
        "# ConformalPrediction"
      ],
      "id": "7a45a074"
    },
    {
      "cell_type": "code",
      "metadata": {},
      "source": [
        "#| echo: false\n",
        "using Pkg; Pkg.activate(\"docs\")\n",
        "using Plots\n",
        "using TaijaPlotting\n",
        "theme(:wong)\n",
        "using Random\n",
        "Random.seed!(123)\n",
        "using ConformalPrediction"
      ],
      "id": "f4268f3d",
      "execution_count": null,
      "outputs": []
    },
    {
      "cell_type": "markdown",
      "metadata": {},
      "source": [
        "`ConformalPrediction.jl` is a package for Predictive Uncertainty Quantification (UQ) through Conformal Prediction (CP) in Julia. It is designed to work with supervised models trained in [MLJ](https://alan-turing-institute.github.io/MLJ.jl/dev/) [@blaom2020mlj]. Conformal Prediction is easy-to-understand, easy-to-use and model-agnostic and it works under minimal distributional assumptions. \n",
        "\n",
        "## 🏃 Quick Tour\n",
        "\n",
        "> First time here? Take a quick interactive [tour](https://juliahub.com/ui/Notebooks/juliahub/Tutorials/ConformalPrediction.jl) to see what this package can do right on [JuliaHub](https://juliahub.com/ui/Notebooks/juliahub/Tutorials/ConformalPrediction.jl){target=\"_blank\"} (To run the notebook, hit login and then edit). \n",
        "\n",
        "This [`Pluto.jl`](https://github.com/fonsp/Pluto.jl){target=\"_blank\"} 🎈 notebook won the 2nd Price in the [JuliaCon 2023 Notebook Competition](https://info.juliahub.com/pluto-notebook-winner-23).\n",
        "\n",
        "### Local Tour\n",
        "\n",
        "To run the tour locally, just clone this repo and start `Pluto.jl` as follows:\n",
        "\n",
        "```{.julia}\n",
        "] add Pluto\n",
        "using Pluto\n",
        "Pluto.run()\n",
        "```\n",
        "\n",
        "All notebooks are contained in `docs/pluto`.\n",
        "\n",
        "## 📖 Background\n",
        "\n",
        "Don't worry, we're not about to deep-dive into methodology. But just to give you a high-level description of Conformal Prediction (CP) upfront:\n",
        "\n",
        "> Conformal prediction (a.k.a. conformal inference) is a user-friendly paradigm for creating statistically rigorous uncertainty sets/intervals for the predictions of such models. Critically, the sets are valid in a distribution-free sense: they possess explicit, non-asymptotic guarantees even without distributional assumptions or model assumptions.\n",
        ">\n",
        "> --- @angelopoulos2021gentle\n",
        "\n",
        "Intuitively, CP works under the premise of turning heuristic notions of uncertainty into rigorous uncertainty estimates through repeated sampling or the use of dedicated calibration data. \n",
        "\n",
        "![Conformal Prediction in action: prediction intervals at varying coverage rates. As coverage grows, so does the width of the prediction interval.](https://raw.githubusercontent.com/pat-alt/pat-alt.github.io/main/blog/posts/conformal-regression/www/medium.gif)\n",
        "\n",
        "The animation above is lifted from a small blog [post](https://www.paltmeyer.com/blog/posts/conformal-regression/) that introduces Conformal Prediction and this package in the context of regression. It shows how the prediction interval and the test points that it covers varies in size as the user-specified coverage rate changes.\n",
        "\n",
        "## 🚩 Installation \n",
        "\n",
        "You can install the latest stable release from the general registry:\n",
        "\n",
        "```{.julia}\n",
        "using Pkg\n",
        "Pkg.add(\"ConformalPrediction\")\n",
        "```\n",
        "\n",
        "The development version can be installed as follows:\n",
        "\n",
        "```{.julia}\n",
        "using Pkg\n",
        "Pkg.add(url=\"https://github.com/juliatrustworthyai/ConformalPrediction.jl\")\n",
        "```\n",
        "\n",
        "## 🔍 Usage Example \n",
        "\n",
        "To illustrate the intended use of the package, let's have a quick look at a simple regression problem. We first generate some synthetic data and then determine indices for our training and test data using [MLJ](https://alan-turing-institute.github.io/MLJ.jl/dev/):"
      ],
      "id": "f57cee42"
    },
    {
      "cell_type": "code",
      "metadata": {},
      "source": [
        "using MLJ\n",
        "\n",
        "# Inputs:\n",
        "N = 600\n",
        "xmax = 3.0\n",
        "using Distributions\n",
        "d = Uniform(-xmax, xmax)\n",
        "X = rand(d, N)\n",
        "X = reshape(X, :, 1)\n",
        "\n",
        "# Outputs:\n",
        "noise = 0.5\n",
        "fun(X) = sin(X)\n",
        "ε = randn(N) .* noise\n",
        "y = @.(fun(X)) + ε\n",
        "y = vec(y)\n",
        "\n",
        "# Partition:\n",
        "train, test = partition(eachindex(y), 0.4, 0.4, shuffle=true)"
      ],
      "id": "c4c41fca",
      "execution_count": null,
      "outputs": []
    },
    {
      "cell_type": "markdown",
      "metadata": {},
      "source": [
        "We then import Symbolic Regressor ([`SymbolicRegression.jl`](https://github.com/MilesCranmer/SymbolicRegression.jl)) following the standard [MLJ](https://alan-turing-institute.github.io/MLJ.jl/dev/) procedure."
      ],
      "id": "3368c957"
    },
    {
      "cell_type": "code",
      "metadata": {},
      "source": [
        "regressor = @load SRRegressor pkg=SymbolicRegression\n",
        "model = regressor(\n",
        "    niterations=50,\n",
        "    binary_operators=[+, -, *],\n",
        "    unary_operators=[sin],\n",
        ")"
      ],
      "id": "d02dd42e",
      "execution_count": null,
      "outputs": []
    },
    {
      "cell_type": "markdown",
      "metadata": {},
      "source": [
        "To turn our conventional model into a conformal model, we just need to declare it as such by using `conformal_model` wrapper function. The generated conformal model instance can wrapped in data to create a *machine*. Finally, we proceed by fitting the machine on training data using the generic `fit!` method:"
      ],
      "id": "5e6b6edc"
    },
    {
      "cell_type": "code",
      "metadata": {},
      "source": [
        "using ConformalPrediction\n",
        "conf_model = conformal_model(model)\n",
        "mach = machine(conf_model, X, y)\n",
        "fit!(mach, rows=train)"
      ],
      "id": "f89ff4c3",
      "execution_count": null,
      "outputs": []
    },
    {
      "cell_type": "markdown",
      "metadata": {},
      "source": [
        "Predictions can then be computed using the generic `predict` method. The code below produces predictions for the first `n` samples. Each tuple contains the lower and upper bound for the prediction interval. "
      ],
      "id": "b3713843"
    },
    {
      "cell_type": "code",
      "metadata": {},
      "source": [
        "#| output: true\n",
        "show_first = 5\n",
        "Xtest = selectrows(X, test)\n",
        "ytest = y[test]\n",
        "ŷ = predict(mach, Xtest)\n",
        "ŷ[1:show_first]"
      ],
      "id": "269f00d5",
      "execution_count": null,
      "outputs": []
    },
    {
      "cell_type": "markdown",
      "metadata": {},
      "source": [
        "For simple models like this one, we can call a custom `Plots` recipe on our instance, fit result and data to generate the chart below:"
      ],
      "id": "b177964b"
    },
    {
      "cell_type": "code",
      "metadata": {},
      "source": [
        "#| output: true\n",
        "\n",
        "using Plots\n",
        "zoom = 0\n",
        "plt = plot(mach.model, mach.fitresult, Xtest, ytest, lw=5, zoom=zoom, observed_lab=\"Test points\")\n",
        "xrange = range(-xmax+zoom,xmax-zoom,length=N)\n",
        "plot!(plt, xrange, @.(fun(xrange)), lw=2, ls=:dash, colour=:darkorange, label=\"Ground truth\")"
      ],
      "id": "f1820561",
      "execution_count": null,
      "outputs": []
    },
    {
      "cell_type": "code",
      "metadata": {},
      "source": [
        "#| eval: false\n",
        "#| echo: false\n",
        "\n",
        "theme(:lime)\n",
        "\n",
        "Xtest = selectrows(X, test)\n",
        "ytest = y[test]\n",
        "\n",
        "max_z = 5\n",
        "anim = @animate for z in 0:0.1:max_z\n",
        "\n",
        "    z = -z\n",
        "\n",
        "    # Test points:\n",
        "    xleft = -xmax + z\n",
        "    xright = xmax - z\n",
        "    global Xtest = vcat(xleft, Xtest, xright)\n",
        "    yleft =  fun(xleft) .+ randn(1) .* noise\n",
        "    yright =  fun(xright) .+ randn(1) .* noise\n",
        "    global ytest = vcat(yleft, ytest, yright)\n",
        "\n",
        "    # Plot:\n",
        "    plt = plot(mach.model, mach.fitresult, Xtest, ytest, \n",
        "        lw=5, zoom=zoom, observed_lab=\"Test points\", dpi=300, legend=false, axis=true,\n",
        "        size=(800,400))\n",
        "    xrange = range(-xmax-max_z,xmax+max_z,length=N)\n",
        "    plot!(plt, xrange, @.(fun(xrange)), \n",
        "        lw=2, ls=:dash, label=\"Ground truth\", xlim=extrema(xrange), ylim=(-2.0,2.0))\n",
        "end\n",
        "\n",
        "gif(anim, fps=10)"
      ],
      "id": "3ba27895",
      "execution_count": null,
      "outputs": []
    },
    {
      "cell_type": "markdown",
      "metadata": {},
      "source": [
        "We can evaluate the conformal model using the standard [MLJ](https://alan-turing-institute.github.io/MLJ.jl/dev/) workflow with a custom performance measure. You can use either `emp_coverage` for the overall empirical coverage (correctness) or `ssc` for the size-stratified coverage rate (adaptiveness)."
      ],
      "id": "02837116"
    },
    {
      "cell_type": "code",
      "metadata": {},
      "source": [
        "#| output: true\n",
        "\n",
        "_eval = evaluate!(mach; measure=[emp_coverage, ssc], verbosity=0)\n",
        "display(_eval)\n",
        "println(\"Empirical coverage: $(round(_eval.measurement[1], digits=3))\")\n",
        "println(\"SSC: $(round(_eval.measurement[2], digits=3))\")"
      ],
      "id": "6df6a6c4",
      "execution_count": null,
      "outputs": []
    },
    {
      "cell_type": "markdown",
      "metadata": {},
      "source": [
        "## 📚 Read on\n",
        "\n",
        "If after reading the usage example above you are just left with more questions about the topic, that's normal. Below we have have collected a number of further resources to help you get started with this package and the topic itself:\n",
        "\n",
        "1. Blog post introducing conformal classifiers: [[Quarto](https://www.paltmeyer.com/blog/posts/conformal-prediction/)], [[TDS](https://medium.com/towards-data-science/conformal-prediction-in-julia-351b81309e30)], [[Forem](https://forem.julialang.org/patalt/conformal-prediction-in-julia-h9n)].\n",
        "2. Blog post applying CP to a deep learning image classifier: [[Quarto](https://www.paltmeyer.com/blog/posts/conformal-image-classifier/)], [[TDS](https://medium.com/towards-data-science/how-to-conformalize-a-deep-image-classifier-14ead4e1a5a0)], [[Forem](https://forem.julialang.org/patalt/how-to-conformalize-a-deep-image-classifier-50p2)].\n",
        "3. The package [docs](https://juliatrustworthyai.github.io/ConformalPrediction.jl/dev/) and in particular the [FAQ](https://www.paltmeyer.com/ConformalPrediction.jl/dev/faq/).\n",
        "\n",
        "### External Resources\n",
        "\n",
        "- *A Gentle Introduction to Conformal Prediction and Distribution-Free Uncertainty Quantification* by @angelopoulos2021gentle ([pdf](https://arxiv.org/pdf/2107.07511.pdf)).\n",
        "- *Predictive inference with the jackknife+* by @barber2021predictive ([pdf](https://projecteuclid.org/journals/annals-of-statistics/volume-49/issue-1/Predictive-inference-with-the-jackknife/10.1214/20-AOS1965.full))\n",
        "- *Awesome Conformal Prediction* repository by Valery Manokhin ([repo](https://github.com/valeman/awesome-conformal-prediction)).\n",
        "- [Documentation](https://mapie.readthedocs.io/en/latest/index.html) for the Python package MAPIE.\n",
        "\n",
        "## 🔁 Status \n",
        "\n",
        "This package is in its early stages of development and therefore still subject to changes to the core architecture and API. \n",
        "\n",
        "### Implemented Methodologies\n",
        "\n",
        "The following CP approaches have been implemented:\n",
        "\n",
        "**Regression**:\n",
        "\n",
        "- Inductive \n",
        "- Naive Transductive \n",
        "- Jackknife \n",
        "- Jackknife+ \n",
        "- Jackknife-minmax\n",
        "- CV+\n",
        "- CV-minmax\n",
        "\n",
        "**Classification**:\n",
        "\n",
        "- Inductive\n",
        "- Naive Transductive \n",
        "- Adaptive Inductive\n",
        "\n",
        "The package has been tested for the following supervised models offered by [MLJ](https://alan-turing-institute.github.io/MLJ.jl/dev/).\n",
        "\n",
        "**Regression**:"
      ],
      "id": "51c8d581"
    },
    {
      "cell_type": "code",
      "metadata": {},
      "source": [
        "#| output: true\n",
        "keys(tested_atomic_models[:regression])"
      ],
      "id": "9b93b4cb",
      "execution_count": null,
      "outputs": []
    },
    {
      "cell_type": "markdown",
      "metadata": {},
      "source": [
        "**Classification**:"
      ],
      "id": "043d50cb"
    },
    {
      "cell_type": "code",
      "metadata": {},
      "source": [
        "#| output: true\n",
        "keys(tested_atomic_models[:classification])"
      ],
      "id": "0f0aab54",
      "execution_count": null,
      "outputs": []
    },
    {
      "cell_type": "markdown",
      "metadata": {},
      "source": [
        "### Implemented Evaluation Metrics\n",
        "\n",
        "To evaluate conformal predictors we are typically interested in correctness and adaptiveness. The former can be evaluated by looking at the empirical coverage rate, while the latter can be assessed through metrics that address the conditional coverage [@angelopoulos2021gentle]. To this end, the following metrics have been implemented:\n",
        "\n",
        "- `emp_coverage` (empirical coverage)\n",
        "- `ssc` (size-stratified coverage)\n",
        "\n",
        "There is also a simple `Plots.jl` recipe that can be used to inspect the set sizes. In the regression case, the interval width is stratified into discrete bins for this purpose:"
      ],
      "id": "738ac9b6"
    },
    {
      "cell_type": "code",
      "metadata": {},
      "source": [
        "#| output: true\n",
        "\n",
        "bar(mach.model, mach.fitresult, X)"
      ],
      "id": "7989833b",
      "execution_count": null,
      "outputs": []
    },
    {
      "cell_type": "markdown",
      "metadata": {},
      "source": [
        "## 🛠 Contribute \n",
        "\n",
        "Contributions are welcome! A good place to start is the [list](https://github.com/juliatrustworthyai/ConformalPrediction.jl/issues) of outstanding issues. For more details, see also the [Contributor's Guide](https://www.paltmeyer.com/ConformalPrediction.jl/dev/contribute/). Please follow the [SciML ColPrac guide](https://github.com/SciML/ColPrac).\n",
        "\n",
        "## 🙏 Thanks\n",
        "\n",
        "To build this package I have read and re-read both @angelopoulos2021gentle and @barber2021predictive. The Awesome Conformal Prediction [repository](https://github.com/valeman/awesome-conformal-prediction) [@manokhin2022awesome] has also been a fantastic place to get started. Thanks also to [\\@aangelopoulos](https://github.com/aangelopoulos), [\\@valeman](https://github.com/valeman) and others for actively contributing to discussions on here. Quite a few people have also recently started using and contributing to the package for which I am very grateful. Finally, many thanks to Anthony Blaom ([\\@ablaom](https://github.com/ablaom)) for many helpful discussions about how to interface this package to `MLJ.jl`.\n",
        "\n",
        "## 🎓 References \n"
      ],
      "id": "9db36793"
    }
  ],
  "metadata": {
    "kernelspec": {
      "name": "julia-1.9",
      "language": "julia",
      "display_name": "Julia 1.9.3"
    }
  },
  "nbformat": 4,
  "nbformat_minor": 5
}