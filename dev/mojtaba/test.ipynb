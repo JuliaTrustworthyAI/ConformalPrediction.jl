{
  "cells": [
    {
      "cell_type": "code",
      "execution_count": 1,
      "metadata": {},
      "outputs": [
        {
          "name": "stderr",
          "output_type": "stream",
          "text": [
            "\u001b[32m\u001b[1m  Activating\u001b[22m\u001b[39m project at `~/code/ConformalPrediction.jl/dev`\n"
          ]
        }
      ],
      "source": [
        "using Pkg; Pkg.activate(\"../\")"
      ]
    }
  ],
  "metadata": {
    "kernelspec": {
      "display_name": "Julia 1.8.1",
      "language": "julia",
      "name": "julia-1.8"
    },
    "language_info": {
      "file_extension": ".jl",
      "mimetype": "application/julia",
      "name": "julia",
      "version": "1.8.1"
    },
    "vscode": {
      "interpreter": {
        "hash": "7e4facb08265a0cc7c72cd467d750ce5a60e3a61bd0b630c7ddfa028ad628ced"
      }
    }
  },
  "nbformat": 4,
  "nbformat_minor": 4
}
